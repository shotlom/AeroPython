{
 "cells": [
  {
   "cell_type": "markdown",
   "metadata": {},
   "source": [
    "###### Content provided under a Creative Commons Attribution license, CC-BY 4.0; code under BSD 3-Clause license. (c)2014 Lorena A. Barba. Thanks: Gilbert Forsyth and Olivier Mesnard, and NSF for support via CAREER award #1149784."
   ]
  },
  {
   "cell_type": "markdown",
   "metadata": {},
   "source": [
    "# Test of viewscad\n"
   ]
  },
  {
   "cell_type": "markdown",
   "metadata": {},
   "source": [
    "Hello! This is a quick test of viewscad CAD design in a \n",
    "\n",
    "`jupyter notebook`\n",
    "\n",
    "You will get a new browser window or tab with a list of the notebooks available in that folder. Click on one and start working! "
   ]
  },
  {
   "cell_type": "code",
   "execution_count": 1,
   "metadata": {
    "collapsed": true
   },
   "outputs": [],
   "source": [
    "# <-- comments in python are denoted by the pound sign, like this one\n",
    "\n",
    "import numpy                 # we import the array library\n",
    "from matplotlib import pyplot    # import plotting library"
   ]
  },
  {
   "cell_type": "markdown",
   "metadata": {},
   "source": [
    "We are importing one library named `numpy` and we are importing a module called `pyplot` of a big library called `matplotlib`.  \n",
    "\n",
    "To use a function belonging to one of these libraries, we have to tell Python where to look for it. For that, each function name is written following the library name, with a dot in between. \n",
    "\n",
    "So if we want to use the NumPy function [`linspace()`](http://docs.scipy.org/doc/numpy/reference/generated/numpy.linspace.html), which creates an array with equally spaced numbers between a start and end, we call it by writing:"
   ]
  },
  {
   "cell_type": "code",
   "execution_count": 2,
   "metadata": {},
   "outputs": [
    {
     "name": "stdout",
     "output_type": "stream",
     "text": [
      "[ 0.          0.55555556  1.11111111  1.66666667  2.22222222  2.77777778\n",
      "  3.33333333  3.88888889  4.44444444  5.        ]\n"
     ]
    }
   ],
   "source": [
    "myarray = numpy.linspace(0, 5, 10)\n",
    "print(myarray)"
   ]
  },
  {
   "cell_type": "code",
   "execution_count": 1,
   "metadata": {
    "collapsed": true
   },
   "outputs": [],
   "source": [
    "# <-- comments in python are denoted by the pound sign, like this one\n",
    "\n",
    "import numpy                 # we import the array library\n",
    "from matplotlib import pyplot    # import plotting library\n",
    "from solid import *\n",
    "import viewscad\n",
    "r = viewscad.Renderer()\n"
   ],
   "source": [
    "from IPython.core.display import HTML\n",
    "def css_styling(filepath):\n",
    "    styles = open(filepath, 'r').read()\n",
    "    return HTML(styles)\n",
    "css_styling('../styles/custom.css')"
   ]
  }
 ],
 "metadata": {
  "kernelspec": {
   "display_name": "Python 3",
   "language": "python",
   "name": "python3"
  },
  "language_info": {
   "codemirror_mode": {
    "name": "ipython",
    "version": 3
   },
   "file_extension": ".py",
   "mimetype": "text/x-python",
   "name": "python",
   "nbconvert_exporter": "python",
   "pygments_lexer": "ipython3",
   "version": "3.7.1"
  }
 },
 "nbformat": 4,
 "nbformat_minor": 1
}
