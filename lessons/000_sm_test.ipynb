from solid import *
import viewscad

r = viewscad.Renderer()
